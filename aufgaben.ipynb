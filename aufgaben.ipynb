{
 "cells": [
  {
   "cell_type": "code",
   "execution_count": null,
   "id": "407d2ace-b6e5-4391-9ca1-ff3a845349f6",
   "metadata": {},
   "outputs": [],
   "source": [
    "%matplotlib inline\n",
    "\n",
    "import pydicom\n",
    "import matplotlib\n",
    "import numpy as np\n",
    "import matplotlib.pyplot as plt\n",
    "import ipywidgets as widgets\n",
    "\n",
    "from ipywidgets import interact"
   ]
  },
  {
   "cell_type": "markdown",
   "id": "0bad6bbd-5de8-4515-a377-6c860ca3f35e",
   "metadata": {},
   "source": [
    "## Einlesen und Visualisieren eines DICOM-Bildes"
   ]
  },
  {
   "cell_type": "code",
   "execution_count": null,
   "id": "8d03a783-7122-4864-805d-22b5b728a122",
   "metadata": {},
   "outputs": [],
   "source": [
    "ds = pydicom.dcmread(\"/path/to/file.dcm\")\n",
    "img = ds.pixel_array\n",
    "text_data = \"Image Height: \" + str(img.shape[0]) + \"\\nImage Width: \" + str(img.shape[1]) + \"\\nPatient Name: \" + str(ds.PatientName) + \"\\nPatient ID: \" + ds.PatientID + \"\\nPatient DOB: \" + ds.PatientBirthDate + \"\\nPatient Sex: \" + ds.PatientSex\n",
    "plt.text(img.shape[1] + 5, img.shape[0] / 2, text_data)\n",
    "plt.imshow(img, cmap=\"bone\");"
   ]
  },
  {
   "cell_type": "markdown",
   "id": "8315d44b-80a7-4279-b73e-5fc58e038349",
   "metadata": {},
   "source": [
    "## Fenster-Funktion"
   ]
  },
  {
   "cell_type": "code",
   "execution_count": null,
   "id": "ceb9a44b-593f-480b-8589-e31efba4c627",
   "metadata": {},
   "outputs": [],
   "source": [
    "def windowFunction(uG, oG, img):\n",
    "    new_img = np.copy(img)\n",
    "    new_img = new_img.clip(uG, oG)"
   ]
  },
  {
   "cell_type": "code",
   "execution_count": null,
   "id": "ec3c35c5-3076-44ec-9863-4f87b89144f1",
   "metadata": {},
   "outputs": [],
   "source": [
    "width_slider = widgets.IntSlider(min=2, max=4095, step=1, value=300, continuous_update=False)\n",
    "center_slider = widgets.IntSlider(min=-1024, max=3071, step=1, value=25, continuous_update=False)\n",
    "\n",
    "def interact_windowing(width, center):\n",
    "    center = center / ds.RescaleSlope - ds.RescaleIntercept\n",
    "    uG = center - (width // 2)\n",
    "    oG = center + (width // 2)\n",
    "    plt.axis(\"off\")\n",
    "    plt.imshow(windowFunction(uG, oG, img), cmap=\"gray\");\n",
    "\n",
    "interact(interact_windowing, width=width_slider, center=center_slider);"
   ]
  },
  {
   "cell_type": "markdown",
   "id": "25a4d53a-a7f8-45bc-82f4-51ba93836866",
   "metadata": {},
   "source": [
    "## Binarisierungsfunktion"
   ]
  },
  {
   "cell_type": "code",
   "execution_count": null,
   "id": "917d42d1-4374-4f5a-bf21-dd90ea7355aa",
   "metadata": {},
   "outputs": [],
   "source": [
    "def to_binary(img, thresh):\n",
    "    return (img >= thresh) * 1"
   ]
  },
  {
   "cell_type": "code",
   "execution_count": null,
   "id": "d10f5a43-c16c-4817-8912-228cf6e41d22",
   "metadata": {},
   "outputs": [],
   "source": [
    "def img_opt(img, box, thresh):\n",
    "    # box = (75, 450, 125, 380)\n",
    "    bin_img = to_binary(img, threshold)\n",
    "    bin_img[:,:box[0]] = 0\n",
    "    bin_img[:,box[1]:] = 0\n",
    "    bin_img[:box[2]] = 0\n",
    "    bin_img[box[3]:] = 0\n",
    "    bin_img = skimage.morphology.binary_erosion(bin_img)\n",
    "    bin_img = skimage.morphology.binary_closing(bin_img)\n",
    "    bin_img = skimage.morphology.binary_dilation(bin_img)\n",
    "    return bin_img"
   ]
  },
  {
   "cell_type": "markdown",
   "id": "9195fa47-b30c-4cf1-8ee7-b59dad91b80b",
   "metadata": {},
   "source": [
    "## 3D-Rekonstruktion"
   ]
  },
  {
   "cell_type": "code",
   "execution_count": null,
   "id": "c599452a-9bb9-4f35-9c60-0e1d8d6225fe",
   "metadata": {},
   "outputs": [],
   "source": [
    "img_list = [img_opt(img.pixel_array) for img in imgs]\n",
    "img_array = np.array(img_list)\n",
    "img_array = img_array.transpose(2, 1, 0)\n",
    "verts, faces, normals, values = measure.marching_cubes(img_array, 0)\n",
    "x, y, z = zip(*verts)\n",
    "mesh = Poly3DCollection(verts[faces], alpha=0.6)\n",
    "ax = plt.figure(figsize=(10,10)).add_subplot(projection=\"3d\")\n",
    "ax.add_collection3d(mesh)\n",
    "ax.set_xlim(0, max(x));\n",
    "ax.set_ylim(0, max(x));\n",
    "ax.set_zlim(0, max(x));\n",
    "ax.set_xlabel(\"size (mm)\");\n",
    "ax.set_ylabel(\"size (mm)\");\n",
    "ax.set_zlabel(\"size (mm)\");"
   ]
  }
 ],
 "metadata": {
  "kernelspec": {
   "display_name": "Python 3 (ipykernel)",
   "language": "python",
   "name": "python3"
  },
  "language_info": {
   "codemirror_mode": {
    "name": "ipython",
    "version": 3
   },
   "file_extension": ".py",
   "mimetype": "text/x-python",
   "name": "python",
   "nbconvert_exporter": "python",
   "pygments_lexer": "ipython3",
   "version": "3.11.5"
  }
 },
 "nbformat": 4,
 "nbformat_minor": 5
}
